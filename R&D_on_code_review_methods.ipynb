{
  "nbformat": 4,
  "nbformat_minor": 0,
  "metadata": {
    "colab": {
      "provenance": [],
      "authorship_tag": "ABX9TyM6ax1FScBTKYAk/UxmVfJp",
      "include_colab_link": true
    },
    "kernelspec": {
      "name": "python3",
      "display_name": "Python 3"
    },
    "language_info": {
      "name": "python"
    }
  },
  "cells": [
    {
      "cell_type": "markdown",
      "metadata": {
        "id": "view-in-github",
        "colab_type": "text"
      },
      "source": [
        "<a href=\"https://colab.research.google.com/github/EuclidStellar/RnD_on_code_review_methods/blob/main/R%26D_on_code_review_methods.ipynb\" target=\"_parent\"><img src=\"https://colab.research.google.com/assets/colab-badge.svg\" alt=\"Open In Colab\"/></a>"
      ]
    },
    {
      "cell_type": "code",
      "source": [
        "!pip install colorama"
      ],
      "metadata": {
        "colab": {
          "base_uri": "https://localhost:8080/"
        },
        "id": "88YQsPaWglmV",
        "outputId": "f4532377-6183-4240-e5c0-3a2db5c07cc0"
      },
      "execution_count": 10,
      "outputs": [
        {
          "output_type": "stream",
          "name": "stdout",
          "text": [
            "Collecting colorama\n",
            "  Downloading colorama-0.4.6-py2.py3-none-any.whl.metadata (17 kB)\n",
            "Downloading colorama-0.4.6-py2.py3-none-any.whl (25 kB)\n",
            "Installing collected packages: colorama\n",
            "Successfully installed colorama-0.4.6\n"
          ]
        }
      ]
    },
    {
      "cell_type": "code",
      "source": [
        "import difflib\n",
        "from colorama import Fore, Style, init\n",
        "from IPython.display import display, HTML\n",
        "\n",
        "# Initialize colorama\n",
        "init(autoreset=True)\n",
        "\n",
        "def get_diff(file1, file2):\n",
        "    \"\"\"\n",
        "    Compares two text files line by line and returns differences with colored additions and reductions.\n",
        "    The output will include line numbers for changes and will be displayed in a pleasing format.\n",
        "    \"\"\"\n",
        "    with open(file1, 'r') as f1, open(file2, 'r') as f2:\n",
        "        lines1 = f1.readlines()\n",
        "        lines2 = f2.readlines()\n",
        "\n",
        "    # Get the diff as a list of lines\n",
        "    diff = list(difflib.unified_diff(lines1, lines2, lineterm=''))\n",
        "\n",
        "    # Variables to track the line numbers\n",
        "    old_line_number = 1\n",
        "    new_line_number = 1\n",
        "\n",
        "    # HTML for the output\n",
        "    html_diff = \"\"\n",
        "\n",
        "    # Iterate through the diff and colorize it\n",
        "    for line in diff:\n",
        "        # If it's a change marker (e.g., line chunk header)\n",
        "        if line.startswith('@@'):\n",
        "            # Get the old and new line numbers from the chunk header\n",
        "            chunk_info = line.split(\" \")[1:3]\n",
        "            old_start_line = int(chunk_info[0].split(\",\")[0][1:])\n",
        "            new_start_line = int(chunk_info[1].split(\",\")[0][1:])\n",
        "            html_diff += f'<div style=\"color: #FFA500; font-weight: bold; margin-top: 10px;\">Changes start at lines {old_start_line} and {new_start_line}</div>'\n",
        "        elif line.startswith('-'):  # Lines removed\n",
        "            html_diff += f'<div style=\"color: red;\">Line {old_line_number}: {line[1:].strip()}</div>'\n",
        "            old_line_number += 1\n",
        "        elif line.startswith('+'):  # Lines added\n",
        "            html_diff += f'<div style=\"color: green;\">Line {new_line_number}: {line[1:].strip()}</div>'\n",
        "            new_line_number += 1\n",
        "        else:  # Unchanged lines\n",
        "            old_line_number += 1\n",
        "            new_line_number += 1\n",
        "\n",
        "    # If there are no changes, display a friendly message\n",
        "    if not html_diff:\n",
        "        html_diff = \"<div style='color: green; font-weight: bold;'>No changes detected.</div>\"\n",
        "\n",
        "    # Display the HTML in Colab\n",
        "    return html_diff\n",
        "\n",
        "# Example usage\n",
        "file1 = \"/content/new_code.py\"  # Replace with the correct path to your file\n",
        "file2 = \"/content/old_code.py\"  # Replace with the correct path to your file\n",
        "\n",
        "# Get the colored diff\n",
        "colored_output = get_diff(file1, file2)\n",
        "\n",
        "# Display the colored diff in Colab\n",
        "display(HTML(f\"<div style='font-family: Arial, sans-serif; padding: 10px; font-size: 14px;'>{colored_output}</div>\"))\n"
      ],
      "metadata": {
        "colab": {
          "base_uri": "https://localhost:8080/",
          "height": 1000
        },
        "id": "NxyckPpegpuH",
        "outputId": "1acf9ecc-0925-46b0-89de-d5d03f2eaa50"
      },
      "execution_count": 19,
      "outputs": [
        {
          "output_type": "display_data",
          "data": {
            "text/plain": [
              "<IPython.core.display.HTML object>"
            ],
            "text/html": [
              "<div style='font-family: Arial, sans-serif; padding: 10px; font-size: 14px;'><div style=\"color: red;\">Line 1: --</div><div style=\"color: green;\">Line 1: ++</div><div style=\"color: #FFA500; font-weight: bold; margin-top: 10px;\">Changes start at lines 37 and 37</div><div style=\"color: red;\">Line 5: self.master.bind(\"<p>\", self.toggle_pause)  # Bind pause key</div><div style=\"color: red;\">Line 6: </div><div style=\"color: green;\">Line 5: </div><div style=\"color: red;\">Line 8: self.running = True</div><div style=\"color: red;\">Line 12: \"\"\"Create food at a random location, ensuring it doesn't spawn on the snake\"\"\"</div><div style=\"color: red;\">Line 13: while True:</div><div style=\"color: red;\">Line 14: x = random.randint(0, (WIDTH - SEG_SIZE) // SEG_SIZE) * SEG_SIZE</div><div style=\"color: red;\">Line 15: y = random.randint(0, (HEIGHT - SEG_SIZE) // SEG_SIZE) * SEG_SIZE</div><div style=\"color: red;\">Line 16: food_position = (x, y)</div><div style=\"color: red;\">Line 17: if food_position not in self.snake:  # Ensure food doesn't overlap with the snake</div><div style=\"color: red;\">Line 18: self.food = food_position</div><div style=\"color: red;\">Line 19: self.canvas.create_rectangle(x, y, x + SEG_SIZE, y + SEG_SIZE, fill=FOOD_COLOR, outline=FOOD_COLOR)</div><div style=\"color: red;\">Line 20: break</div><div style=\"color: green;\">Line 10: \"\"\"Create food at a random location\"\"\"</div><div style=\"color: green;\">Line 11: x = random.randint(0, (WIDTH - SEG_SIZE) // SEG_SIZE) * SEG_SIZE</div><div style=\"color: green;\">Line 12: y = random.randint(0, (HEIGHT - SEG_SIZE) // SEG_SIZE) * SEG_SIZE</div><div style=\"color: green;\">Line 13: self.food = (x, y)</div><div style=\"color: green;\">Line 14: self.canvas.create_rectangle(x, y, x + SEG_SIZE, y + SEG_SIZE, fill=FOOD_COLOR, outline=FOOD_COLOR)</div><div style=\"color: #FFA500; font-weight: bold; margin-top: 10px;\">Changes start at lines 112 and 106</div><div style=\"color: red;\">Line 27: self.canvas.create_text(WIDTH // 2, HEIGHT // 2 + 80, text=\"Press 'r' to Restart\", font=(\"Arial\", 14, \"bold\"), fill=\"white\")</div><div style=\"color: #FFA500; font-weight: bold; margin-top: 10px;\">Changes start at lines 120 and 113</div><div style=\"color: red;\">Line 34: if self.running:</div><div style=\"color: red;\">Line 35: self.move_snake()</div><div style=\"color: red;\">Line 36: if self.check_collision():</div><div style=\"color: red;\">Line 37: self.game_over()</div><div style=\"color: red;\">Line 38: return</div><div style=\"color: red;\">Line 39: </div><div style=\"color: red;\">Line 40: if self.check_food_collision():</div><div style=\"color: red;\">Line 41: self.update_score()</div><div style=\"color: red;\">Line 42: </div><div style=\"color: red;\">Line 43: # Clear canvas and redraw</div><div style=\"color: red;\">Line 44: self.canvas.delete(\"all\")</div><div style=\"color: red;\">Line 45: self.create_food()</div><div style=\"color: red;\">Line 46: self.create_snake()</div><div style=\"color: green;\">Line 27: self.move_snake()</div><div style=\"color: green;\">Line 28: if self.check_collision():</div><div style=\"color: green;\">Line 29: self.game_over()</div><div style=\"color: green;\">Line 30: return</div><div style=\"color: green;\">Line 31: </div><div style=\"color: green;\">Line 32: if self.check_food_collision():</div><div style=\"color: green;\">Line 34: </div><div style=\"color: green;\">Line 35: # Clear canvas and redraw</div><div style=\"color: green;\">Line 36: self.canvas.delete(\"all\")</div><div style=\"color: green;\">Line 37: self.create_food()</div><div style=\"color: green;\">Line 38: self.create_snake()</div><div style=\"color: green;\">Line 39: self.update_score()</div><div style=\"color: red;\">Line 51: </div><div style=\"color: red;\">Line 52: def toggle_pause(self, event):</div><div style=\"color: red;\">Line 53: \"\"\"Pause and unpause the game\"\"\"</div><div style=\"color: red;\">Line 54: if not self.is_game_over:</div><div style=\"color: red;\">Line 55: self.running = not self.running</div><div style=\"color: red;\">Line 56: if self.running:</div><div style=\"color: red;\">Line 57: self.run_game()</div><div style=\"color: #FFA500; font-weight: bold; margin-top: 10px;\">Changes start at lines 162 and 147</div><div style=\"color: red;\">Line 64: def restart_game(self):</div><div style=\"color: red;\">Line 65: \"\"\"Restart the game\"\"\"</div><div style=\"color: red;\">Line 66: self.snake = [(100, 100), (80, 100), (60, 100)]</div><div style=\"color: red;\">Line 67: self.snake_direction = \"Right\"</div><div style=\"color: red;\">Line 68: self.food = None</div><div style=\"color: red;\">Line 69: self.is_game_over = False</div><div style=\"color: red;\">Line 70: self.score = 0</div><div style=\"color: red;\">Line 71: self.running = True</div><div style=\"color: red;\">Line 72: self.canvas.delete(\"all\")</div><div style=\"color: red;\">Line 73: self.create_food()</div><div style=\"color: red;\">Line 74: self.create_snake()</div><div style=\"color: red;\">Line 75: self.run_game()</div><div style=\"color: red;\">Line 76: </div></div>"
            ]
          },
          "metadata": {}
        }
      ]
    },
    {
      "cell_type": "code",
      "source": [
        "import re\n",
        "from colorama import Fore, Style, init\n",
        "\n",
        "# Initialize colorama for colored output\n",
        "init(autoreset=True)\n",
        "\n",
        "def check_unclosed_brackets(code):\n",
        "    \"\"\"\n",
        "    Checks if all brackets are properly closed.\n",
        "    Supports: (), {}, []\n",
        "    Returns which brackets are unclosed and at which line number.\n",
        "    \"\"\"\n",
        "    stack = []  # Stack to hold the opening brackets and their line numbers\n",
        "    brackets = {'(': ')', '{': '}', '[': ']'}  # Mapping for opening and closing brackets\n",
        "    opening_brackets = set(brackets.keys())  # Set of opening brackets\n",
        "    closing_brackets = set(brackets.values())  # Set of closing brackets\n",
        "    line_number = 1\n",
        "    lines = code.split('\\n')\n",
        "\n",
        "    # List to hold error messages\n",
        "    result = []\n",
        "\n",
        "    # Iterate through each line and each character in the line\n",
        "    for line in lines:\n",
        "        for char in line:\n",
        "            if char in opening_brackets:\n",
        "                # Push opening bracket with the current line number onto the stack\n",
        "                stack.append((char, line_number))\n",
        "            elif char in closing_brackets:\n",
        "                if not stack:\n",
        "                    # If stack is empty but we encounter a closing bracket, error!\n",
        "                    result.append(Fore.RED + f\"Brackets are not balanced! Error at line {line_number}, unexpected closing bracket '{char}'.\")\n",
        "                    return \"\\n\".join(result)\n",
        "\n",
        "                # Pop the top item from the stack and check if it matches the current closing bracket\n",
        "                last_opening, last_line = stack.pop()\n",
        "                if brackets[last_opening] != char:\n",
        "                    # If the last opening bracket doesn't match the current closing bracket, it's an error\n",
        "                    result.append(Fore.RED + f\"Brackets are not balanced! Error at line {line_number}, expected closing for '{last_opening}', found '{char}' instead.\")\n",
        "                    return \"\\n\".join(result)\n",
        "\n",
        "        line_number += 1\n",
        "\n",
        "    # After the loop, if the stack still contains any opening brackets, report them as unbalanced\n",
        "    if stack:\n",
        "        for unclosed_bracket, unclosed_line in stack:\n",
        "            result.append(Fore.RED + f\"Brackets are not balanced! The opening '{unclosed_bracket}' at line {unclosed_line} is not closed.\")\n",
        "\n",
        "    # If no issues, all brackets are balanced\n",
        "    if not result:\n",
        "        result.append(Fore.GREEN + \"Brackets are balanced.\")\n",
        "\n",
        "    return \"\\n\".join(result)\n",
        "\n",
        "# Example usage with a large number of unbalanced brackets\n",
        "code_sample = \"\"\"\n",
        "def check_brackets():\n",
        "    if (x > 0 {\n",
        "        print(\"Hello\")\n",
        "    if (y < 5 {\n",
        "        for i in range(10):\n",
        "            if (i % 2 == 0) {\n",
        "                print(i)\n",
        "            }\n",
        "    else:\n",
        "        print(\"Done\")\n",
        "\n",
        "def main():\n",
        "    def nested_function():\n",
        "        a = (2 + 3)\n",
        "        if (a > 5):\n",
        "            print(a\n",
        "        else:\n",
        "            print(\"Error\")\n",
        "    return\n",
        "\"\"\"\n",
        "\n",
        "# Test the function\n",
        "print(check_unclosed_brackets(code_sample))\n"
      ],
      "metadata": {
        "colab": {
          "base_uri": "https://localhost:8080/"
        },
        "id": "ScshLMeZiEmz",
        "outputId": "bca862bb-08e1-47b7-dca5-ce3b9a3b2a4c"
      },
      "execution_count": 31,
      "outputs": [
        {
          "output_type": "stream",
          "name": "stdout",
          "text": [
            "Brackets are not balanced! The opening '(' at line 3 is not closed.\n",
            "Brackets are not balanced! The opening '{' at line 3 is not closed.\n",
            "Brackets are not balanced! The opening '(' at line 5 is not closed.\n",
            "Brackets are not balanced! The opening '{' at line 5 is not closed.\n",
            "Brackets are not balanced! The opening '(' at line 17 is not closed.\n"
          ]
        }
      ]
    },
    {
      "cell_type": "code",
      "source": [
        "import ast\n",
        "\n",
        "def check_unclosed_brackets_ast(filename):\n",
        "    \"\"\"\n",
        "    Checks if all brackets ({, }, (, ), [, ]) are properly closed in Python code\n",
        "    by parsing the code using Python's Abstract Syntax Tree (AST) module.\n",
        "    It returns the line number and type of unbalanced brackets.\n",
        "    \"\"\"\n",
        "    with open(filename, \"r\") as file:\n",
        "        code = file.read()\n",
        "\n",
        "    try:\n",
        "        # Attempt to parse the code using AST (this will catch syntax errors)\n",
        "        ast.parse(code)\n",
        "\n",
        "        return f\"Brackets are balanced in {filename}.\"\n",
        "\n",
        "    except SyntaxError as e:\n",
        "        # SyntaxError contains the line number where parsing failed\n",
        "        error_message = str(e)\n",
        "        line_number = e.lineno\n",
        "        column_number = e.offset\n",
        "        msg = f\"Brackets are not balanced in {filename}.\\n\"\n",
        "        msg += f\"Error at line {line_number}, column {column_number}. {error_message}\"\n",
        "\n",
        "        return msg\n",
        "\n",
        "\n",
        "# Example usage\n",
        "print(check_unclosed_brackets_ast(\"ast_code.py\"))\n"
      ],
      "metadata": {
        "colab": {
          "base_uri": "https://localhost:8080/"
        },
        "id": "0kgpaCEkkmyA",
        "outputId": "258f37e8-9f04-4280-a1a6-9e245a11c209"
      },
      "execution_count": 36,
      "outputs": [
        {
          "output_type": "stream",
          "name": "stdout",
          "text": [
            "Brackets are not balanced in ast_code.py.\n",
            "Error at line 2, column 15. invalid syntax (<unknown>, line 2)\n"
          ]
        }
      ]
    },
    {
      "cell_type": "code",
      "source": [
        "!pip install requests  # For API requests\n"
      ],
      "metadata": {
        "colab": {
          "base_uri": "https://localhost:8080/"
        },
        "id": "nqQBrGJbn6YH",
        "outputId": "e4beb228-b390-4510-9154-dc051b82f262"
      },
      "execution_count": 37,
      "outputs": [
        {
          "output_type": "stream",
          "name": "stdout",
          "text": [
            "Requirement already satisfied: requests in /usr/local/lib/python3.11/dist-packages (2.32.3)\n",
            "Requirement already satisfied: charset-normalizer<4,>=2 in /usr/local/lib/python3.11/dist-packages (from requests) (3.4.1)\n",
            "Requirement already satisfied: idna<4,>=2.5 in /usr/local/lib/python3.11/dist-packages (from requests) (3.10)\n",
            "Requirement already satisfied: urllib3<3,>=1.21.1 in /usr/local/lib/python3.11/dist-packages (from requests) (2.3.0)\n",
            "Requirement already satisfied: certifi>=2017.4.17 in /usr/local/lib/python3.11/dist-packages (from requests) (2025.1.31)\n"
          ]
        }
      ]
    },
    {
      "cell_type": "code",
      "source": [
        "import requests\n",
        "from IPython.display import display, Markdown\n",
        "\n",
        "def review_code_with_gemini(api_key, file_path):\n",
        "    \"\"\"\n",
        "    Reviews the code in the given file using Gemini's API and provides feedback.\n",
        "    It returns a more user-friendly response with feedback and potential issues in the code.\n",
        "    \"\"\"\n",
        "    # Read the content of the code file\n",
        "    try:\n",
        "        with open(file_path, 'r') as file:\n",
        "            code_to_review = file.read()\n",
        "    except FileNotFoundError:\n",
        "        return f\"Error: The file '{file_path}' was not found.\"\n",
        "\n",
        "    # Gemini API URL (Make sure this URL is correct for the Gemini model you're using)\n",
        "    url = f\"https://generativelanguage.googleapis.com/v1beta/models/gemini-2.0-flash:generateContent?key={api_key}\"\n",
        "    headers = {\n",
        "        \"Content-Type\": \"application/json\"\n",
        "    }\n",
        "\n",
        "    # Improved prompt with file content for review\n",
        "    prompt_text = f\"\"\"\n",
        "    Please review the following Python code snippet. Your task is to provide feedback on first provide feedback:\n",
        "    1. Syntax errors\n",
        "    2. Logical errors\n",
        "    3. Missing or incorrect return statements in functions.\n",
        "    4. Code structure issues\n",
        "    5. Potential performance issues or optimizations.\n",
        "    6. Best practices the code may not follow\n",
        "    Do not give me feedback more than 15 lines\n",
        "\n",
        "    Here is the code to review:\n",
        "\n",
        "    {code_to_review}\n",
        "    \"\"\"\n",
        "\n",
        "    payload = {\n",
        "        \"contents\": [{\n",
        "            \"parts\": [{\"text\": prompt_text}]\n",
        "        }]\n",
        "    }\n",
        "\n",
        "    # Make the POST request to the Gemini API\n",
        "    response = requests.post(url, headers=headers, json=payload)\n",
        "\n",
        "    # Handle response and format it for better readability\n",
        "    if response.status_code == 200:\n",
        "        gemini_response = response.json()\n",
        "        # Check if candidates exist in the response\n",
        "        if 'candidates' in gemini_response and len(gemini_response['candidates']) > 0:\n",
        "            feedback = gemini_response['candidates'][0]['content']['parts'][0]['text']\n",
        "            return format_gemini_response(feedback)\n",
        "        else:\n",
        "            return \"Error: Gemini did not return valid feedback. The response structure may have changed.\"\n",
        "    else:\n",
        "        return f\"Error: {response.status_code}, {response.text}\"\n",
        "\n",
        "def format_gemini_response(response_text):\n",
        "    \"\"\"\n",
        "    Format the Gemini response into a more readable and useful format with Markdown support.\n",
        "    \"\"\"\n",
        "    # Add markdown formatting (code blocks and sections)\n",
        "    formatted_response = f\"### Code Review Feedback\\n\\n{response_text.strip()}\"\n",
        "\n",
        "    # Ensure the feedback text has appropriate Markdown syntax for code blocks\n",
        "   # formatted_response = formatted_response.replace(\"```python\", \"```python\\n\").replace(\"\\n\", \"\\n\\n\")\n",
        "\n",
        "    # Display the formatted response as Markdown\n",
        "    display(Markdown(formatted_response))\n",
        "\n",
        "\n",
        "# Example usage\n",
        "api_key = \"your-API-KEY\"  # Use your actual API key here\n",
        "file_path = \"/content/ast_code.py\"  # Replace with the path to your code file\n",
        "\n",
        "# Get the Gemini review response and display it nicely\n",
        "review_response = review_code_with_gemini(api_key, file_path)\n",
        "print(review_response)\n"
      ],
      "metadata": {
        "colab": {
          "base_uri": "https://localhost:8080/",
          "height": 294
        },
        "id": "DoEBhsfeoxPW",
        "outputId": "3d0a8292-91a3-4e88-adec-9d60e2120867"
      },
      "execution_count": 51,
      "outputs": [
        {
          "output_type": "display_data",
          "data": {
            "text/plain": [
              "<IPython.core.display.Markdown object>"
            ],
            "text/markdown": "### Code Review Feedback\n\nHere's a review of the Python code snippet:\n\n1.  **Syntax Errors:** Missing colons after `if`, `else`, and `for` statements. Incorrect use of curly braces `{}` instead of colons `:` for code blocks. Syntax error: `print(a` missing closing parenthesis.\n2.  **Logical Errors:** `x` and `y` are not defined, leading to `NameError`. The `else` block associated with the `y < 5` conditional is misplaced and will always execute.\n3.  **Missing/Incorrect Returns:** `check_brackets` implicitly returns `None`. `main` returns nothing, which is acceptable, but could be improved.\n4.  **Code Structure:** `check_brackets` lacks clear purpose and function name is misapplied (no bracket checking). `nested_function` defined but never called within `main`.\n5.  **Performance:** No significant performance issues in this small snippet.\n6.  **Best Practices:** Indentation is inconsistent and incorrect. Variable names should be descriptive. Avoid defining functions inside other functions unless necessary for specific use cases like closures or decorators. Avoid redundant parenthesis."
          },
          "metadata": {}
        },
        {
          "output_type": "stream",
          "name": "stdout",
          "text": [
            "None\n"
          ]
        }
      ]
    }
  ]
}